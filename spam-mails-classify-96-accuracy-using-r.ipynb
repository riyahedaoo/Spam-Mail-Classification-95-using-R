{
 "cells": [
  {
   "cell_type": "markdown",
   "id": "collaborative-latest",
   "metadata": {
    "papermill": {
     "duration": 0.009229,
     "end_time": "2021-04-08T19:34:35.167658",
     "exception": false,
     "start_time": "2021-04-08T19:34:35.158429",
     "status": "completed"
    },
    "tags": []
   },
   "source": [
    "**Step1: Import data and split**\n",
    "* Here we import the dataset and split it into spam and ham mails datasets.\n",
    "* If any text is null, it is converted to empty string."
   ]
  },
  {
   "cell_type": "code",
   "execution_count": 1,
   "id": "skilled-position",
   "metadata": {
    "execution": {
     "iopub.execute_input": "2021-04-08T19:34:35.189512Z",
     "iopub.status.busy": "2021-04-08T19:34:35.187077Z",
     "iopub.status.idle": "2021-04-08T19:34:35.801922Z",
     "shell.execute_reply": "2021-04-08T19:34:35.801093Z"
    },
    "papermill": {
     "duration": 0.626645,
     "end_time": "2021-04-08T19:34:35.802080",
     "exception": false,
     "start_time": "2021-04-08T19:34:35.175435",
     "status": "completed"
    },
    "tags": []
   },
   "outputs": [
    {
     "name": "stderr",
     "output_type": "stream",
     "text": [
      "Warning message:\n",
      "“Missing column names filled in: 'X1' [1]”\n",
      "\n",
      "\u001b[36m──\u001b[39m \u001b[1m\u001b[1mColumn specification\u001b[1m\u001b[22m \u001b[36m────────────────────────────────────────────────────────\u001b[39m\n",
      "cols(\n",
      "  X1 = \u001b[32mcol_double()\u001b[39m,\n",
      "  label = \u001b[31mcol_character()\u001b[39m,\n",
      "  text = \u001b[31mcol_character()\u001b[39m,\n",
      "  label_num = \u001b[32mcol_double()\u001b[39m\n",
      ")\n",
      "\n",
      "\n"
     ]
    },
    {
     "data": {
      "text/plain": [
       "\n",
       "   0    1 \n",
       "3672 1499 "
      ]
     },
     "metadata": {},
     "output_type": "display_data"
    }
   ],
   "source": [
    "library(readr)\n",
    "data <- read_csv(\"../input/spam-mails-dataset/spam_ham_dataset.csv\",)\n",
    "data <- data[,c(3,4)]\n",
    "\n",
    "\n",
    "dataset <- data[order(data$label_num),]\n",
    "table(dataset$label_num)\n",
    "dataspam <- dataset[3673:5171,]\n",
    "dataham <- dataset[1:3672,]\n",
    "\n",
    "dataspam$text[is.na(dataspam$text)] <- \"\"\n",
    "dataham$text[is.na(dataham$text)] <- \"\"\n"
   ]
  },
  {
   "cell_type": "markdown",
   "id": "electric-impact",
   "metadata": {
    "papermill": {
     "duration": 0.008897,
     "end_time": "2021-04-08T19:34:35.820347",
     "exception": false,
     "start_time": "2021-04-08T19:34:35.811450",
     "status": "completed"
    },
    "tags": []
   },
   "source": [
    "**Step2: Creating list of most frequent words**\n",
    "* The spam mails are converted to corpus and then converted to lower, punctuations, numbers and whitespaces are removed.\n",
    "* Same is done for ham mails\n",
    "* Most frequent words (frequency more than 30 for spam and 45 for ham as we have more ham mails) are sorted in an array"
   ]
  },
  {
   "cell_type": "code",
   "execution_count": 2,
   "id": "orange-settle",
   "metadata": {
    "execution": {
     "iopub.execute_input": "2021-04-08T19:34:35.878662Z",
     "iopub.status.busy": "2021-04-08T19:34:35.842119Z",
     "iopub.status.idle": "2021-04-08T19:34:36.701406Z",
     "shell.execute_reply": "2021-04-08T19:34:36.700175Z"
    },
    "papermill": {
     "duration": 0.872357,
     "end_time": "2021-04-08T19:34:36.701568",
     "exception": false,
     "start_time": "2021-04-08T19:34:35.829211",
     "status": "completed"
    },
    "tags": []
   },
   "outputs": [
    {
     "name": "stderr",
     "output_type": "stream",
     "text": [
      "Loading required package: NLP\n",
      "\n",
      "\n",
      "Attaching package: ‘NLP’\n",
      "\n",
      "\n",
      "The following object is masked from ‘package:httr’:\n",
      "\n",
      "    content\n",
      "\n",
      "\n"
     ]
    }
   ],
   "source": [
    "\n",
    "library(tm)\n",
    "\n",
    "cpspam <- Corpus(VectorSource(dataspam$text))\n",
    "tdm_spam <- TermDocumentMatrix(cpspam)\n",
    "spam_words <- as.array(findFreqTerms(tdm_spam,30))\n",
    "\n",
    "cpham <- Corpus(VectorSource(dataham$text))\n",
    "tdm_ham <- TermDocumentMatrix(cpham)\n",
    "ham_words <- as.array(findFreqTerms(tdm_ham,45))"
   ]
  },
  {
   "cell_type": "code",
   "execution_count": 3,
   "id": "dental-brown",
   "metadata": {
    "execution": {
     "iopub.execute_input": "2021-04-08T19:34:36.727177Z",
     "iopub.status.busy": "2021-04-08T19:34:36.725505Z",
     "iopub.status.idle": "2021-04-08T19:34:36.747517Z",
     "shell.execute_reply": "2021-04-08T19:34:36.746012Z"
    },
    "papermill": {
     "duration": 0.03608,
     "end_time": "2021-04-08T19:34:36.747651",
     "exception": false,
     "start_time": "2021-04-08T19:34:36.711571",
     "status": "completed"
    },
    "tags": []
   },
   "outputs": [
    {
     "data": {
      "text/html": [
       "1297"
      ],
      "text/latex": [
       "1297"
      ],
      "text/markdown": [
       "1297"
      ],
      "text/plain": [
       "[1] 1297"
      ]
     },
     "metadata": {},
     "output_type": "display_data"
    },
    {
     "data": {
      "text/html": [
       "1078"
      ],
      "text/latex": [
       "1078"
      ],
      "text/markdown": [
       "1078"
      ],
      "text/plain": [
       "[1] 1078"
      ]
     },
     "metadata": {},
     "output_type": "display_data"
    }
   ],
   "source": [
    "length(ham_words)\n",
    "length(spam_words)"
   ]
  },
  {
   "cell_type": "markdown",
   "id": "desirable-palace",
   "metadata": {
    "papermill": {
     "duration": 0.010912,
     "end_time": "2021-04-08T19:34:36.769706",
     "exception": false,
     "start_time": "2021-04-08T19:34:36.758794",
     "status": "completed"
    },
    "tags": []
   },
   "source": [
    "**Step3.1: Checking for Ham mails**\n",
    "* We first take any text (for eg, dataham[1,1]) and check if it has more ham mails or more spam mails\n",
    "* If hams > spam we say it is a Ham mail"
   ]
  },
  {
   "cell_type": "code",
   "execution_count": 4,
   "id": "interesting-helen",
   "metadata": {
    "execution": {
     "iopub.execute_input": "2021-04-08T19:34:36.797711Z",
     "iopub.status.busy": "2021-04-08T19:34:36.795941Z",
     "iopub.status.idle": "2021-04-08T19:34:43.509846Z",
     "shell.execute_reply": "2021-04-08T19:34:43.508407Z"
    },
    "papermill": {
     "duration": 6.729462,
     "end_time": "2021-04-08T19:34:43.510199",
     "exception": false,
     "start_time": "2021-04-08T19:34:36.780737",
     "status": "completed"
    },
    "tags": []
   },
   "outputs": [
    {
     "name": "stderr",
     "output_type": "stream",
     "text": [
      "\n",
      "Attaching package: ‘dplyr’\n",
      "\n",
      "\n",
      "The following objects are masked from ‘package:stats’:\n",
      "\n",
      "    filter, lag\n",
      "\n",
      "\n",
      "The following objects are masked from ‘package:base’:\n",
      "\n",
      "    intersect, setdiff, setequal, union\n",
      "\n",
      "\n"
     ]
    },
    {
     "data": {
      "text/html": [
       "0.963235294117647"
      ],
      "text/latex": [
       "0.963235294117647"
      ],
      "text/markdown": [
       "0.963235294117647"
      ],
      "text/plain": [
       "[1] 0.9632353"
      ]
     },
     "metadata": {},
     "output_type": "display_data"
    }
   ],
   "source": [
    "library(dplyr)\n",
    "i=1\n",
    "result <- rep(0,length(dataham$text))\n",
    "for(i in (1:length(dataham$text)))\n",
    "{\n",
    "  text <- dataham$text[i]\n",
    "  if(text==\"\" | is.na(text)==T){\n",
    "    result[i] <- NA\n",
    "  } else{\n",
    "    cp <- Corpus(VectorSource(text))\n",
    "    tdm <- TermDocumentMatrix(cp)\n",
    "    words <- as.array(tdm$dimnames$Terms)\n",
    "    \n",
    "    s=0\n",
    "    h=0\n",
    "    for(j in words){\n",
    "      if(j %in% spam_words) {s=s+1}\n",
    "      if(j %in% ham_words) {h=h+1}\n",
    "    }\n",
    "    \n",
    "    if(h > 1.055*s){\n",
    "    result[i] <- 0\n",
    "    }  else {\n",
    "        result[i] <- 1\n",
    "    }\n",
    "    }\n",
    "}\n",
    "\n",
    "mean(result == 0,na.rm = T)\n"
   ]
  },
  {
   "cell_type": "markdown",
   "id": "flexible-motivation",
   "metadata": {
    "papermill": {
     "duration": 0.012926,
     "end_time": "2021-04-08T19:34:43.536361",
     "exception": false,
     "start_time": "2021-04-08T19:34:43.523435",
     "status": "completed"
    },
    "tags": []
   },
   "source": [
    "**Step3.2: Checking for Spam mails**\n",
    "* We first take any text (for eg, dataspam[1,1]) and check if it has more ham mails or more spam mails\n",
    "* If spams > ham we say it is a Spam mail\n",
    "* But as we have more data for ham mails it was getting difficult to sort spam mails\n",
    "* After many trial and errors, s*1.055 gave the most accuracy for both datasets"
   ]
  },
  {
   "cell_type": "code",
   "execution_count": 5,
   "id": "formal-boutique",
   "metadata": {
    "execution": {
     "iopub.execute_input": "2021-04-08T19:34:43.567636Z",
     "iopub.status.busy": "2021-04-08T19:34:43.566400Z",
     "iopub.status.idle": "2021-04-08T19:34:47.669673Z",
     "shell.execute_reply": "2021-04-08T19:34:47.668513Z"
    },
    "papermill": {
     "duration": 4.120585,
     "end_time": "2021-04-08T19:34:47.669890",
     "exception": false,
     "start_time": "2021-04-08T19:34:43.549305",
     "status": "completed"
    },
    "tags": []
   },
   "outputs": [
    {
     "data": {
      "text/html": [
       "0.949299533022015"
      ],
      "text/latex": [
       "0.949299533022015"
      ],
      "text/markdown": [
       "0.949299533022015"
      ],
      "text/plain": [
       "[1] 0.9492995"
      ]
     },
     "metadata": {},
     "output_type": "display_data"
    }
   ],
   "source": [
    "\n",
    "i=1\n",
    "result <- rep(0,length(dataspam$text))\n",
    "for(i in (1:length(dataspam$text)))\n",
    "{\n",
    "  text <- dataspam$text[i]\n",
    "  if(text==\"\" | is.na(text)==T){\n",
    "    result[i] <- NA\n",
    "  } else{\n",
    "    cp <- Corpus(VectorSource(text))\n",
    "    tdm <- TermDocumentMatrix(cp)\n",
    "    words <- as.array(tdm$dimnames$Terms)\n",
    "    \n",
    "    s=0\n",
    "    h=0\n",
    "    for(j in words){\n",
    "      if(j %in% spam_words) {s=s+1}\n",
    "      if(j %in% ham_words) {h=h+1}\n",
    "    }\n",
    "    \n",
    "    if(h > 1.055*s){\n",
    "    result[i] <- 0\n",
    "    }  else {\n",
    "        result[i] <- 1\n",
    "    }\n",
    "    }\n",
    "}\n",
    "\n",
    "mean(result == 1,na.rm = T)\n"
   ]
  },
  {
   "cell_type": "markdown",
   "id": "empty-nylon",
   "metadata": {
    "papermill": {
     "duration": 0.01362,
     "end_time": "2021-04-08T19:34:47.697951",
     "exception": false,
     "start_time": "2021-04-08T19:34:47.684331",
     "status": "completed"
    },
    "tags": []
   },
   "source": [
    "**Step4: Checking for full dataset**"
   ]
  },
  {
   "cell_type": "code",
   "execution_count": 6,
   "id": "representative-patrol",
   "metadata": {
    "execution": {
     "iopub.execute_input": "2021-04-08T19:34:47.731583Z",
     "iopub.status.busy": "2021-04-08T19:34:47.730271Z",
     "iopub.status.idle": "2021-04-08T19:34:58.146001Z",
     "shell.execute_reply": "2021-04-08T19:34:58.144582Z"
    },
    "papermill": {
     "duration": 10.434678,
     "end_time": "2021-04-08T19:34:58.146230",
     "exception": false,
     "start_time": "2021-04-08T19:34:47.711552",
     "status": "completed"
    },
    "tags": []
   },
   "outputs": [
    {
     "data": {
      "text/html": [
       "0.95919551344034"
      ],
      "text/latex": [
       "0.95919551344034"
      ],
      "text/markdown": [
       "0.95919551344034"
      ],
      "text/plain": [
       "[1] 0.9591955"
      ]
     },
     "metadata": {},
     "output_type": "display_data"
    }
   ],
   "source": [
    "\n",
    "i=1\n",
    "result <- rep(0,length(dataset$text))\n",
    "for(i in (1:length(dataset$text)))\n",
    "{\n",
    "  text <- dataset$text[i]\n",
    "  if(text==\"\" | is.na(text)==T){\n",
    "    result[i] <- NA\n",
    "  } else{\n",
    "    cp <- Corpus(VectorSource(text))\n",
    "    tdm <- TermDocumentMatrix(cp)\n",
    "    words <- as.array(tdm$dimnames$Terms)\n",
    "    \n",
    "    s=0\n",
    "    h=0\n",
    "    for(j in words){\n",
    "      if(j %in% spam_words) {s=s+1}\n",
    "      if(j %in% ham_words) {h=h+1}\n",
    "    }\n",
    "    \n",
    "    if(h > 1.055*s){\n",
    "    result[i] <- 0\n",
    "    }  else {\n",
    "        result[i] <- 1\n",
    "    }\n",
    "    }\n",
    "}\n",
    "\n",
    "mean(result == dataset$label_num,na.rm = T)\n"
   ]
  },
  {
   "cell_type": "markdown",
   "id": "illegal-magnet",
   "metadata": {
    "papermill": {
     "duration": 0.014508,
     "end_time": "2021-04-08T19:34:58.176309",
     "exception": false,
     "start_time": "2021-04-08T19:34:58.161801",
     "status": "completed"
    },
    "tags": []
   },
   "source": [
    "**Conclusion: Final accuray was found to be approx 96%**"
   ]
  }
 ],
 "metadata": {
  "kernelspec": {
   "display_name": "R",
   "language": "R",
   "name": "ir"
  },
  "language_info": {
   "codemirror_mode": "r",
   "file_extension": ".r",
   "mimetype": "text/x-r-source",
   "name": "R",
   "pygments_lexer": "r",
   "version": "3.6.3"
  },
  "papermill": {
   "default_parameters": {},
   "duration": 26.105593,
   "end_time": "2021-04-08T19:34:58.299904",
   "environment_variables": {},
   "exception": null,
   "input_path": "__notebook__.ipynb",
   "output_path": "__notebook__.ipynb",
   "parameters": {},
   "start_time": "2021-04-08T19:34:32.194311",
   "version": "2.3.3"
  }
 },
 "nbformat": 4,
 "nbformat_minor": 5
}
